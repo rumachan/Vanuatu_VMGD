{
 "cells": [
  {
   "cell_type": "markdown",
   "metadata": {},
   "source": [
    "Video of Selected VMGD WebCam Images\n",
    "-- \n",
    "\n",
    "Assumes all images have the same dimensions as the first image in the folder, generally no reason this should not be the case"
   ]
  },
  {
   "cell_type": "code",
   "execution_count": 15,
   "metadata": {},
   "outputs": [],
   "source": [
    "import cv2\n",
    "import os\n",
    "import datetime\n",
    "from datetime import timedelta\n",
    "import pandas as pd\n",
    "\n",
    "from ipywidgets import interact, interactive, fixed, interact_manual\n",
    "import ipywidgets as widgets\n",
    "from ipywidgets import Button, Layout"
   ]
  },
  {
   "cell_type": "code",
   "execution_count": 16,
   "metadata": {},
   "outputs": [],
   "source": [
    "def imfdt(imfile):\n",
    "    #gets a datetime for an image file named like LVVL20180101T0000VUT.jpg or AMB120180430T0845VUT.jpg\n",
    "    \n",
    "    #drop site name at start of imfile name\n",
    "    imfile = imfile[len(site):]\n",
    "    \n",
    "    #extract digits from string, these are the date-time\n",
    "    imdt = ''.join(list(filter(str.isdigit, imfile)))\n",
    "    year = imdt[:4]\n",
    "    month = imdt[4:6]\n",
    "    day = imdt[6:8]\n",
    "    hour = imdt[8:10]\n",
    "    minute = imdt[10:12]\n",
    "    second = 0\n",
    "    dt = datetime.datetime(int(year), int(month), int(day), int(hour), int(minute), second)\n",
    "    return (dt)"
   ]
  },
  {
   "cell_type": "code",
   "execution_count": 17,
   "metadata": {},
   "outputs": [],
   "source": [
    "def selsite(s):\n",
    "    global site, volcano\n",
    "    sitvol = {'AMB1':'Ambrym', 'LVVL':'Ambae', 'LPV':'Lopevi', 'YASH':'Tanna'}\n",
    "    site = s['new']\n",
    "    volcano = sitvol.get(site)\n",
    "    print (site, volcano)\n",
    "    \n",
    "def seldate1(d1):\n",
    "    global date1, time_start\n",
    "    date = d1['new']\n",
    "    date1 = date.strftime(\"%Y-%m-%d\")\n",
    "    time_start = datetime.datetime.strptime(date1, '%Y-%m-%d')\n",
    "    print (date1, time_start)\n",
    "\n",
    "def seldate2(d2):\n",
    "    global date2, time_end\n",
    "    date = d2['new']\n",
    "    date2 = date.strftime(\"%Y-%m-%d\")\n",
    "    time_end = datetime.datetime.strptime(date2, '%Y-%m-%d')\n",
    "    print (date2, time_end)\n",
    "\n",
    "def makevideo(m):\n",
    "    print ('making video')\n",
    "      \n",
    "    #video path and file name\n",
    "    vidname = site+'_'+date1+'_'+date2+'_video.avi'\n",
    "    vidfile = os.path.join(viddir, vidname)\n",
    "    \n",
    "    #unique list of years/months we need to examine\n",
    "    years = []\n",
    "    months = []\n",
    "    for date in pd.date_range(date1, date2):\n",
    "        years.append(date.year)\n",
    "        months.append(date.month)\n",
    "    #unique values, no better way of doing this?\n",
    "    myset = set(years)\n",
    "    years = list(myset)\n",
    "    myset = set(months)\n",
    "    months = list(myset)\n",
    "    print (years, months)\n",
    "    \n",
    "    #get size of last image, required for video specification\n",
    "#     im1 = sorted(os.listdir(os.path.join(imgdir,volcano,str(years[0]),str(months[0]).zfill(2))))[0]\n",
    "#     img1 = os.path.join(imgdir,volcano,str(years[0]),str(months[0]).zfill(2),im1)\n",
    "    im1 = sorted(os.listdir(os.path.join(imgdir,volcano)))[-1]\n",
    "    img1 = os.path.join(imgdir,volcano,im1)\n",
    "    \n",
    "    img = cv2.imread(img1)\n",
    "    height,width,layers = img.shape\n",
    "    #video specifications\n",
    "    fps = 4\n",
    "    fourcc = cv2.VideoWriter_fourcc(*'XVID')\n",
    "    video = cv2.VideoWriter(vidfile,fourcc,fps,(width,height))\n",
    "    \n",
    "    #loop required years and months, then examine files to see if qualify    \n",
    "    for year in years:\n",
    "        #print(year)\n",
    "        for month in months:\n",
    "            #print (month)\n",
    "            searchdir = os.path.join(imgdir,volcano,str(year),str(month).zfill(2))\n",
    "            if os.path.isdir(searchdir):\n",
    "                for file in sorted(os.listdir(searchdir)):\n",
    "                    if file.endswith('.jpg'):\n",
    "                        imtime = imfdt(file)\n",
    "                        if (imtime > time_start and imtime < time_end):\n",
    "                            imfile = os.path.join(searchdir, file)\n",
    "                            img = cv2.imread(imfile)\n",
    "                            img[y_offset:y_offset+logo.shape[0], x_offset:x_offset+logo.shape[1]] = logo\n",
    "                            video.write(img)\n",
    "                        \n",
    "    #most recent files in year (not yet in month folder), so examine those too\n",
    "    for year in years:\n",
    "        #print(year)\n",
    "        searchdir = os.path.join(imgdir,volcano)\n",
    "        for file in sorted(os.listdir(searchdir)):\n",
    "            if file.endswith('.jpg'):\n",
    "                imtime = imfdt(file)\n",
    "                if (imtime > time_start and imtime < time_end):\n",
    "                    imfile = os.path.join(searchdir, file)\n",
    "                    img = cv2.imread(imfile)\n",
    "                    img[y_offset:y_offset+logo.shape[0], x_offset:x_offset+logo.shape[1]] = logo\n",
    "                    video.write(img)\n",
    "    \n",
    "    cv2.destroyAllWindows\n",
    "    video.release()\n",
    "    print ('**VIDEO COMPLETE**')"
   ]
  },
  {
   "cell_type": "code",
   "execution_count": 18,
   "metadata": {},
   "outputs": [],
   "source": [
    "imgdir = '/home/sherburn/BenbowWebcam'\n",
    "viddir = '/home/sherburn/scratch/vanuatu_video'\n",
    "\n",
    "#positional offset for logo\n",
    "x_offset=5\n",
    "y_offset=400\n",
    "\n",
    "#read in logo\n",
    "logo = cv2.imread('/home/sherburn/Dropbox/work/Vanuatu_ipynb/video_logo.png')"
   ]
  },
  {
   "cell_type": "markdown",
   "metadata": {},
   "source": [
    "**Set directories**"
   ]
  },
  {
   "cell_type": "code",
   "execution_count": 19,
   "metadata": {},
   "outputs": [
    {
     "data": {
      "application/vnd.jupyter.widget-view+json": {
       "model_id": "2b1b53c725e04a45a2447cfc6ec64cea",
       "version_major": 2,
       "version_minor": 0
      },
      "text/plain": [
       "HBox(children=(Select(description='Site:', options=('select site', 'AMB1', 'LPV', 'LVVL', 'YASH'), value='sele…"
      ]
     },
     "metadata": {},
     "output_type": "display_data"
    },
    {
     "name": "stdout",
     "output_type": "stream",
     "text": [
      "AMB1 Ambrym\n",
      "2018-03-08 2018-03-08 00:00:00\n",
      "2018-03-10 2018-03-10 00:00:00\n",
      "making video\n",
      "[2018] [3]\n",
      "**VIDEO COMPLETE**\n"
     ]
    }
   ],
   "source": [
    "s = widgets.Select(\n",
    "    options=['select site', 'AMB1', 'LPV', 'LVVL', 'YASH'],\n",
    "    value='select site',\n",
    "    description='Site:',\n",
    "    disabled=False\n",
    ")\n",
    "s.observe(selsite, names='value')\n",
    "\n",
    "d1 = widgets.DatePicker(\n",
    "  description='Start Date:')\n",
    "d1.observe(seldate1, names='value')\n",
    "\n",
    "d2 = widgets.DatePicker(\n",
    "  description='End Date:')\n",
    "d2.observe(seldate2, names='value')\n",
    "\n",
    "m=widgets.Button(\n",
    "    description='Make video',\n",
    "    disabled=False,\n",
    "    button_style='success',\n",
    "    tooltip='Click to begin making video')\n",
    "m.on_click(makevideo)\n",
    "\n",
    "widgets.HBox([s, d1, d2, m])"
   ]
  }
 ],
 "metadata": {
  "kernelspec": {
   "display_name": "Python 3",
   "language": "python",
   "name": "python3"
  },
  "language_info": {
   "codemirror_mode": {
    "name": "ipython",
    "version": 3
   },
   "file_extension": ".py",
   "mimetype": "text/x-python",
   "name": "python",
   "nbconvert_exporter": "python",
   "pygments_lexer": "ipython3",
   "version": "3.6.5"
  }
 },
 "nbformat": 4,
 "nbformat_minor": 2
}
